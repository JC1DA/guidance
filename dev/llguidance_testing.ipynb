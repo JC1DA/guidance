{
 "cells": [
  {
   "cell_type": "code",
   "execution_count": 1,
   "metadata": {},
   "outputs": [
    {
     "name": "stderr",
     "output_type": "stream",
     "text": [
      "/Users/nicholasking/code/ms/guidance/env/lib/python3.10/site-packages/tqdm/auto.py:21: TqdmWarning: IProgress not found. Please update jupyter and ipywidgets. See https://ipywidgets.readthedocs.io/en/stable/user_install.html\n",
      "  from .autonotebook import tqdm as notebook_tqdm\n"
     ]
    }
   ],
   "source": [
    "import llguidance\n",
    "from guidance import select, gen, user, assistant, system\n",
    "from guidance.models import OpenAI"
   ]
  },
  {
   "cell_type": "code",
   "execution_count": 2,
   "metadata": {},
   "outputs": [],
   "source": [
    "lm = OpenAI(model=\"gpt-4o\")"
   ]
  },
  {
   "cell_type": "code",
   "execution_count": 3,
   "metadata": {},
   "outputs": [
    {
     "data": {
      "text/html": [
       "<pre style='margin: 0px; padding: 0px; vertical-align: middle; padding-left: 8px; margin-left: -8px; border-radius: 0px; border-left: 1px solid rgba(127, 127, 127, 0.2); white-space: pre-wrap; font-family: ColfaxAI, Arial; font-size: 15px; line-height: 23px;'><div style='display: flex; border-bottom: 1px solid rgba(127, 127, 127, 0.2);  justify-content: center; align-items: center;'><div style='flex: 0 0 80px; opacity: 0.5;'>user</div><div style='flex-grow: 1; padding: 5px; padding-top: 10px; padding-bottom: 10px; margin-top: 0px; white-space: pre-wrap; margin-bottom: 0px;'>Hi</div></div><div style='display: flex; border-bottom: 1px solid rgba(127, 127, 127, 0.2);  justify-content: center; align-items: center;'><div style='flex: 0 0 80px; opacity: 0.5;'>assistant</div><div style='flex-grow: 1; padding: 5px; padding-top: 10px; padding-bottom: 10px; margin-top: 0px; white-space: pre-wrap; margin-bottom: 0px;'><span style='background-color: rgba(165.0, 0.0, 0, 0.15); border-radius: 3px;' title='0.0'>Hello</span><span style='background-color: rgba(165.0, 0.0, 0, 0.15); border-radius: 3px;' title='0.0'>!</span><span style='background-color: rgba(165.0, 0.0, 0, 0.15); border-radius: 3px;' title='0.0'> How</span><span style='background-color: rgba(165.0, 0.0, 0, 0.15); border-radius: 3px;' title='0.0'> can</span><span style='background-color: rgba(165.0, 0.0, 0, 0.15); border-radius: 3px;' title='0.0'> I</span><span style='background-color: rgba(165.0, 0.0, 0, 0.15); border-radius: 3px;' title='0.0'> assist</span><span style='background-color: rgba(165.0, 0.0, 0, 0.15); border-radius: 3px;' title='0.0'> you</span><span style='background-color: rgba(165.0, 0.0, 0, 0.15); border-radius: 3px;' title='0.0'> today</span><span style='background-color: rgba(165.0, 0.0, 0, 0.15); border-radius: 3px;' title='0.0'>?</span></div></div></pre>"
      ],
      "text/plain": [
       "<IPython.core.display.HTML object>"
      ]
     },
     "metadata": {},
     "output_type": "display_data"
    }
   ],
   "source": [
    "with user():\n",
    "    lm += f\"Hi\"\n",
    "with assistant():\n",
    "    lm += f\"{gen(max_tokens=100)}\""
   ]
  },
  {
   "cell_type": "code",
   "execution_count": 4,
   "metadata": {},
   "outputs": [
    {
     "data": {
      "text/plain": [
       "<guidance.models._grammarless.GrammarlessTokenizer at 0x331d6bee0>"
      ]
     },
     "execution_count": 4,
     "metadata": {},
     "output_type": "execute_result"
    }
   ],
   "source": [
    "lm.engine.tokenizer"
   ]
  },
  {
   "cell_type": "code",
   "execution_count": 7,
   "metadata": {},
   "outputs": [],
   "source": [
    "from guidance._grammar import string, GrammarFunction, Terminal, Join\n",
    "import json\n",
    "import os"
   ]
  },
  {
   "cell_type": "code",
   "execution_count": 6,
   "metadata": {},
   "outputs": [],
   "source": [
    "grammar = string(\"brown\")\n",
    "tokenizer = lm.engine.tokenizer\n",
    "\n",
    "if isinstance(grammar, GrammarFunction):\n",
    "    # we can't have a terminal as the root\n",
    "    if isinstance(grammar, Terminal):\n",
    "        grammar = Join([grammar])\n",
    "    serialized_grammar = json.dumps(grammar.ll_serialize())\n",
    "else:\n",
    "    serialized_grammar = grammar"
   ]
  },
  {
   "cell_type": "code",
   "execution_count": 7,
   "metadata": {},
   "outputs": [
    {
     "data": {
      "text/plain": [
       "'{\"grammars\": [{\"nodes\": [{\"String\": {\"literal\": \"brown\"}}], \"rx_nodes\": []}]}'"
      ]
     },
     "execution_count": 7,
     "metadata": {},
     "output_type": "execute_result"
    }
   ],
   "source": [
    "serialized_grammar"
   ]
  },
  {
   "cell_type": "code",
   "execution_count": 8,
   "metadata": {},
   "outputs": [],
   "source": [
    "ll_tokenizer = llguidance.LLTokenizer(\n",
    "    llguidance.TokenizerWrapper(tokenizer)\n",
    ")\n",
    "\n",
    "ll_interpreter = llguidance.LLInterpreter(\n",
    "    ll_tokenizer,\n",
    "    serialized_grammar,\n",
    "    log_level=int(os.environ.get(\"LLGUIDANCE_LOG_LEVEL\", \"1\")),\n",
    ")"
   ]
  },
  {
   "cell_type": "code",
   "execution_count": 9,
   "metadata": {},
   "outputs": [],
   "source": [
    "prompt = b\"The quick \"\n",
    "preprocessed_toks = tokenizer.encode(prompt)\n",
    "processed_toks = ll_interpreter.process_prompt(preprocessed_toks)"
   ]
  },
  {
   "cell_type": "code",
   "execution_count": 10,
   "metadata": {},
   "outputs": [
    {
     "data": {
      "text/plain": [
       "([976, 4853, 220], [976, 4853, 19705])"
      ]
     },
     "execution_count": 10,
     "metadata": {},
     "output_type": "execute_result"
    }
   ],
   "source": [
    "preprocessed_toks, processed_toks"
   ]
  },
  {
   "cell_type": "code",
   "execution_count": 11,
   "metadata": {},
   "outputs": [
    {
     "data": {
      "text/plain": [
       "(b'The quick brown', b'The quick ')"
      ]
     },
     "execution_count": 11,
     "metadata": {},
     "output_type": "execute_result"
    }
   ],
   "source": [
    "tokenizer.decode(processed_toks), tokenizer.decode(preprocessed_toks)"
   ]
  },
  {
   "cell_type": "code",
   "execution_count": 11,
   "metadata": {},
   "outputs": [],
   "source": [
    "from typing import Union\n",
    "from guidance.models._tokenizer import Tokenizer\n",
    "\n",
    "\n",
    "def trace_llguidance_process_prompt(grammar: Union[GrammarFunction, str], tokenizer: Tokenizer, prompt: bytes):\n",
    "    if isinstance(grammar, GrammarFunction):\n",
    "        # we can't have a terminal as the root\n",
    "        if isinstance(grammar, Terminal):\n",
    "            grammar = Join([grammar])\n",
    "        serialized_grammar = json.dumps(grammar.ll_serialize())\n",
    "    else:\n",
    "        serialized_grammar = grammar\n",
    "    \n",
    "    print(\"Serialized grammar:\")\n",
    "    print(serialized_grammar)\n",
    "\n",
    "    ll_tokenizer = llguidance.LLTokenizer(\n",
    "        llguidance.TokenizerWrapper(tokenizer)\n",
    "    )\n",
    "\n",
    "    ll_interpreter = llguidance.LLInterpreter(\n",
    "        ll_tokenizer,\n",
    "        serialized_grammar,\n",
    "        log_level=2,\n",
    "    )\n",
    "\n",
    "    preprocessed_toks = tokenizer.encode(prompt)\n",
    "    processed_toks = ll_interpreter.process_prompt(preprocessed_toks)\n",
    "\n",
    "    print(\"Preprocessed tokens:\")\n",
    "    print(preprocessed_toks) \n",
    "    print(\"Processed tokens:\")\n",
    "    print(processed_toks)\n",
    "\n",
    "    print(\"Decoded preprocessed tokens:\")\n",
    "    print(tokenizer.decode(preprocessed_toks))\n",
    "    print(\"Decoded processed tokens:\")\n",
    "    print(tokenizer.decode(processed_toks))\n"
   ]
  },
  {
   "cell_type": "code",
   "execution_count": 13,
   "metadata": {},
   "outputs": [
    {
     "name": "stdout",
     "output_type": "stream",
     "text": [
      "Serialized grammar:\n",
      "{\"grammars\": [{\"nodes\": [{\"Join\": {\"sequence\": [1, 2]}}, {\"Select\": {\"among\": [3, 4]}}, {\"String\": {\"literal\": \"fox jumped \"}}, {\"String\": {\"literal\": \"wn\"}}, {\"String\": {\"literal\": \"ther\"}}], \"rx_nodes\": []}]}\n",
      "Preprocessed tokens:\n",
      "[976, 4853, 3714]\n",
      "Processed tokens:\n",
      "[976, 4853]\n",
      "Decoded preprocessed tokens:\n",
      "b'The quick bro'\n",
      "Decoded processed tokens:\n",
      "b'The quick'\n"
     ]
    },
    {
     "name": "stderr",
     "output_type": "stream",
     "text": [
      "Grammar #0:\n",
      "LexerSpec { lexemes: [\n",
      "  [0] SKIP  (NoMatch)\n",
      "  [1] str_n2  (Literal \"fox jumped \") contextual\n",
      "  [2] str_n3  (Literal \"wn\") contextual\n",
      "  [3] str_n4  (Literal \"ther\") contextual\n",
      "] }\n",
      "Grammar:\n",
      "n0              ⇦ n1 n2  \n",
      "n1              ⇦ n3  \n",
      "n1              ⇦ n4  \n",
      "stats: 3 terminals; 2 non-terminals with 3 rules with 11 symbols\n",
      "\n",
      "\n",
      "\n",
      "  == Optimize ==>\n",
      "Grammar:\n",
      "n0              ⇦ n1 n2  \n",
      "n1              ⇦ n3  \n",
      "n1              ⇦ n4  \n",
      "stats: 3 terminals; 2 non-terminals with 3 rules with 11 symbols\n",
      "\n",
      "build grammar: 15.875µs; optimize: 58.25µs\n",
      "initial lexer cost: regexps: 4 with 24 nodes (+ 0 derived via 0 derivatives with total fuel 91), states: 3; transitions: 0; bytes: 1899; alphabet size: 16 \n",
      "prompt: \"The‧ quick‧ bro\"\n",
      "prompt+grm: \"The‧ quick‧ bro\"\n",
      "force_prefix: \" bro\"\n",
      "res_prompt: \"The‧ quick\"\n"
     ]
    }
   ],
   "source": [
    "from guidance._grammar import Select\n",
    "\n",
    "prompt = \"The quick bro\"\n",
    "tokenizer = lm.engine.tokenizer\n",
    "g2 = Join([Select([string(\"wn\"), string(\"ther\")]), string(\"fox jumped \")])\n",
    "\n",
    "trace_llguidance_process_prompt(g2, tokenizer, prompt.encode())"
   ]
  },
  {
   "cell_type": "code",
   "execution_count": 5,
   "metadata": {},
   "outputs": [
    {
     "name": "stderr",
     "output_type": "stream",
     "text": [
      "Loading checkpoint shards: 100%|██████████| 2/2 [00:04<00:00,  2.13s/it]\n",
      "Special tokens have been added in the vocabulary, make sure the associated word embeddings are fine-tuned or trained.\n"
     ]
    }
   ],
   "source": [
    "from guidance import models, gen, select, image, user, assistant, system\n",
    "from guidance._grammar import string\n",
    "PHI_3_VISION_MODEL = \"microsoft/Phi-3-vision-128k-instruct\"\n",
    "\n",
    "model_kwargs = {\n",
    "    \"_attn_implementation\": \"eager\", # Uncomment this line if flash attention is not working\n",
    "    \"trust_remote_code\": True,\n",
    "    \"device_map\": \"mps\",\n",
    "}\n",
    "phi3v = models.TransformersPhi3Vision(\n",
    "    model=PHI_3_VISION_MODEL, **model_kwargs\n",
    ")"
   ]
  },
  {
   "cell_type": "code",
   "execution_count": 6,
   "metadata": {},
   "outputs": [
    {
     "data": {
      "text/html": [
       "<pre style='margin: 0px; padding: 0px; vertical-align: middle; padding-left: 8px; margin-left: -8px; border-radius: 0px; border-left: 1px solid rgba(127, 127, 127, 0.2); white-space: pre-wrap; font-family: ColfaxAI, Arial; font-size: 15px; line-height: 23px;'><div style='display: flex; border-bottom: 1px solid rgba(127, 127, 127, 0.2);  justify-content: center; align-items: center;'><div style='flex: 0 0 80px; opacity: 0.5;'>user</div><div style='flex-grow: 1; padding: 5px; padding-top: 10px; padding-bottom: 10px; margin-top: 0px; white-space: pre-wrap; margin-bottom: 0px;'>What do you see in this image?<img src=\"data:image/png;base64,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\" style=\"max-width: 400px; vertical-align: middle; margin: 4px;\"></div></div></pre>"
      ],
      "text/plain": [
       "<IPython.core.display.HTML object>"
      ]
     },
     "metadata": {},
     "output_type": "display_data"
    }
   ],
   "source": [
    "lm = phi3v\n",
    "\n",
    "with user():\n",
    "    image_url = \"https://picsum.photos/200/300\"\n",
    "    lm += \"What do you see in this image?\" + image(image_url)\n",
    "\n",
    "with assistant():\n",
    "    lm += gen(temperature=0.8)"
   ]
  },
  {
   "cell_type": "code",
   "execution_count": null,
   "metadata": {},
   "outputs": [],
   "source": []
  }
 ],
 "metadata": {
  "kernelspec": {
   "display_name": "env",
   "language": "python",
   "name": "python3"
  },
  "language_info": {
   "codemirror_mode": {
    "name": "ipython",
    "version": 3
   },
   "file_extension": ".py",
   "mimetype": "text/x-python",
   "name": "python",
   "nbconvert_exporter": "python",
   "pygments_lexer": "ipython3",
   "version": "3.10.6"
  }
 },
 "nbformat": 4,
 "nbformat_minor": 2
}
