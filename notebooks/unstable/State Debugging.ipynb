{
 "cells": [
  {
   "cell_type": "code",
   "id": "1ec02432-a44d-4fdb-b44c-b153529fc03d",
   "metadata": {
    "ExecuteTime": {
     "end_time": "2024-09-27T21:14:42.017246Z",
     "start_time": "2024-09-27T21:14:40.405816Z"
    }
   },
   "source": [
    "from guidance.models import Transformers\n",
    "from guidance import gen, user, system"
   ],
   "outputs": [
    {
     "name": "stderr",
     "output_type": "stream",
     "text": [
      "/Users/samueljenkins/dev/guidance-dev/venv/lib/python3.9/site-packages/urllib3/__init__.py:35: NotOpenSSLWarning: urllib3 v2 only supports OpenSSL 1.1.1+, currently the 'ssl' module is compiled with 'LibreSSL 2.8.3'. See: https://github.com/urllib3/urllib3/issues/3020\n",
      "  warnings.warn(\n"
     ]
    }
   ],
   "execution_count": 1
  },
  {
   "cell_type": "code",
   "id": "18b70f42-4b6d-41a4-94be-a41360571901",
   "metadata": {},
   "source": [
    "m0 = Transformers(\"gpt2\")\n",
    "with system():\n",
    "    m1 = m0 + \"You are responsible for autocompleting a sentence.\"\n",
    "with user():\n",
    "    m2 = m1 + \"Roses are red and \" + gen(name=\"suffix\", regex=r'[\\w\\s]{15,20}', max_tokens=20)\n",
    "# with user():\n",
    "#     m3 = m2 + \"\\nWhat can I do?\"\n",
    "\n",
    "# m1 = m0 + f\"Hi there {gen(name='name', max_tokens=10, regex='[A-Za-z]{3,5}')}\"\n",
    "# m2 = m0 + f\"You can't stop \" + gen(name='name', max_tokens=10, regex='[A-Za-z]{3,5}')\n",
    "\n",
    "# with system():\n",
    "#     m3 = m0 + \"You are responsible for autocompleting a sentence.\"\n",
    "\n",
    "# with user():\n",
    "#     m4 = m3 + \"The sun is rising \" + gen(name='sentence_suffix', max_tokens=3)"
   ],
   "execution_count": 2,
   "outputs": []
  },
  {
   "cell_type": "code",
   "id": "5a5d668a11bda28f",
   "metadata": {
    "ExecuteTime": {
     "end_time": "2024-09-27T21:14:43.448473Z",
     "start_time": "2024-09-27T21:14:43.439539Z"
    }
   },
   "source": [
    "from guidance.trace import visualize, visualize_text\n",
    "\n",
    "visualize(m0._trace_handler, m0._trace_handler.id_node_map[0])"
   ],
   "outputs": [
    {
     "name": "stdout",
     "output_type": "stream",
     "text": [
      "0:0:None:None\n",
      "└── 1:1:RoleOpenerInput:'system':None\n",
      "    └── 2:2:StatefulGuidanceInput({{G|4970396064|G}}):None\n",
      "        └── 3:3:LiteralInput:'<|im_start|>system\\n':TextOutput:'<|im_start|>system\\n'\n",
      "            └── 4:4:LiteralInput:'You are responsible for autocompleting a sentence.':TextOutput:'You are responsible for autocompleting a sentence.'\n",
      "                ├── 5:5:StatefulGuidanceInput({{G|4988006464|G}}):None\n",
      "                │   └── 6:6:LiteralInput:'<|im_end|>\\n':TextOutput:'<|im_end|>\\n'\n",
      "                └── 7:7:RoleCloserInput:'system':CaptureOutput:'system':'You are responsible for autocompleting a sentence.'\n",
      "                    └── 8:8:StatefulGuidanceInput({{G|4988006464|G}}):None\n",
      "                        └── 9:9:LiteralInput:'<|im_end|>\\n':TextOutput:'<|im_end|>\\n'\n",
      "                            └── 10:10:RoleOpenerInput:'user':None\n",
      "                                └── 11:11:StatefulGuidanceInput({{G|4985004736|G}}):None\n",
      "                                    └── 12:12:LiteralInput:'<|im_start|>user\\n':TextOutput:'<|im_start|>user\\n'\n",
      "                                        └── 13:13:LiteralInput:'Roses are red and ':TextOutput:'Roses are red and '\n",
      "                                            ├── 14:14:StatefulGuidanceInput({{G|4984996144|G}}):None\n",
      "                                            │   └── 15:15:LiteralInput:'<|im_end|>\\n':TextOutput:'<|im_end|>\\n'\n",
      "                                            └── 16:16:StatelessGuidanceInput({{G|4540775456|G}}):None\n",
      "                                                └── 17:17:None:TextOutput:'you':True:1\n",
      "                                                    └── 18:18:None:TextOutput:' are':True:1\n",
      "                                                        └── 19:19:None:TextOutput:' responsible':True:1\n",
      "                                                            └── 20:20:None:CaptureOutput:'suffix':'you are responsible'\n"
     ]
    }
   ],
   "execution_count": 3
  },
  {
   "metadata": {},
   "cell_type": "markdown",
   "source": "",
   "id": "956e746e986f1960"
  },
  {
   "cell_type": "code",
   "id": "120427693c64ef1f",
   "metadata": {
    "ExecuteTime": {
     "end_time": "2024-09-27T21:14:43.512452Z",
     "start_time": "2024-09-27T21:14:43.510569Z"
    }
   },
   "source": [
    "from guidance.trace import visualize, visualize_text\n",
    "\n",
    "visualize_text(\n",
    "    m0._trace_handler,\n",
    "    m0._trace_handler.id_node_map[7]\n",
    ")"
   ],
   "outputs": [
    {
     "name": "stdout",
     "output_type": "stream",
     "text": [
      "<|im_start|>system\n",
      "You are responsible for autocompleting a sentence.system=You are responsible for autocompleting a sentence."
     ]
    }
   ],
   "execution_count": 4
  },
  {
   "cell_type": "code",
   "id": "cbbbe84572efd275",
   "metadata": {
    "ExecuteTime": {
     "end_time": "2024-09-27T21:14:43.588468Z",
     "start_time": "2024-09-27T21:14:43.586539Z"
    }
   },
   "source": "print(str(m2))",
   "outputs": [
    {
     "name": "stdout",
     "output_type": "stream",
     "text": [
      "<|im_start|>system\n",
      "You are responsible for autocompleting a sentence.<|im_end|>\n",
      "<|im_start|>user\n",
      "Roses are red and you are responsible<|im_end|>\n",
      "\n"
     ]
    }
   ],
   "execution_count": 5
  },
  {
   "metadata": {
    "ExecuteTime": {
     "end_time": "2024-09-27T21:14:43.735794Z",
     "start_time": "2024-09-27T19:57:25.432034Z"
    }
   },
   "cell_type": "code",
   "source": "",
   "id": "d63b10cd7e2c64e7",
   "outputs": [],
   "execution_count": null
  }
 ],
 "metadata": {
  "kernelspec": {
   "display_name": "Python 3 (ipykernel)",
   "language": "python",
   "name": "python3"
  },
  "language_info": {
   "codemirror_mode": {
    "name": "ipython",
    "version": 3
   },
   "file_extension": ".py",
   "mimetype": "text/x-python",
   "name": "python",
   "nbconvert_exporter": "python",
   "pygments_lexer": "ipython3",
   "version": "3.9.6"
  }
 },
 "nbformat": 4,
 "nbformat_minor": 5
}
