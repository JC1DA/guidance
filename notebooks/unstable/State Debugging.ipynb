{
 "cells": [
  {
   "cell_type": "code",
   "id": "1ec02432-a44d-4fdb-b44c-b153529fc03d",
   "metadata": {},
   "source": [
    "from guidance.models import Transformers\n",
    "from guidance import gen, select"
   ],
   "outputs": [],
   "execution_count": null
  },
  {
   "metadata": {},
   "cell_type": "code",
   "source": [
    "model_0 = Transformers(\"gpt2\")\n",
    "model_1 = model_0 + f\"Hi there {gen(name='name', max_tokens=10, regex='[A-Za-z]{3,5}')}\"\n",
    "model_2 = model_0 + f\"You can't stop \" + gen(name='name', max_tokens=10, regex='[A-Za-z]{3,5}')\n",
    "# model_1 += f\"Hi there {gen(name='name', max_tokens=10, regex='[A-Za-z]')} {select(['!', '?'], name='punc')}\"\n",
    "# model += f\"Hi there \" + gen('name', max_tokens=10, regex='[A-Za-z]') + \"!\"\n",
    "# "
   ],
   "id": "18b70f42-4b6d-41a4-94be-a41360571901",
   "outputs": [],
   "execution_count": null
  },
  {
   "metadata": {},
   "cell_type": "code",
   "source": [
    "from guidance.state import visualize\n",
    "\n",
    "\n",
    "visualize(model_0._state_handler, model_0._state_handler._model_node_map[0])"
   ],
   "id": "b5d6e974-bc52-4bbd-a8d4-69d681c33072",
   "outputs": [],
   "execution_count": null
  },
  {
   "metadata": {},
   "cell_type": "code",
   "source": "",
   "id": "8c3a1aecf66cc31",
   "outputs": [],
   "execution_count": null
  },
  {
   "metadata": {},
   "cell_type": "code",
   "source": "",
   "id": "d4070d52b59fad",
   "outputs": [],
   "execution_count": null
  }
 ],
 "metadata": {
  "kernelspec": {
   "display_name": "Python 3 (ipykernel)",
   "language": "python",
   "name": "python3"
  },
  "language_info": {
   "codemirror_mode": {
    "name": "ipython",
    "version": 3
   },
   "file_extension": ".py",
   "mimetype": "text/x-python",
   "name": "python",
   "nbconvert_exporter": "python",
   "pygments_lexer": "ipython3",
   "version": "3.10.14"
  }
 },
 "nbformat": 4,
 "nbformat_minor": 5
}
