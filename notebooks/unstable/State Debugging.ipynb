{
 "cells": [
  {
   "cell_type": "code",
   "execution_count": 1,
   "id": "6322ebeedc335fc6",
   "metadata": {
    "ExecuteTime": {
     "end_time": "2024-10-02T17:16:39.381695Z",
     "start_time": "2024-10-02T17:16:39.334719Z"
    }
   },
   "outputs": [],
   "source": [
    "import stitch"
   ]
  },
  {
   "cell_type": "code",
   "execution_count": 2,
   "id": "1ec02432-a44d-4fdb-b44c-b153529fc03d",
   "metadata": {
    "ExecuteTime": {
     "end_time": "2024-10-02T17:11:00.340331Z",
     "start_time": "2024-10-02T17:11:00.337392Z"
    }
   },
   "outputs": [
    {
     "name": "stderr",
     "output_type": "stream",
     "text": [
      "/Users/samueljenkins/dev/guidance-dev/venv/lib/python3.9/site-packages/urllib3/__init__.py:35: NotOpenSSLWarning: urllib3 v2 only supports OpenSSL 1.1.1+, currently the 'ssl' module is compiled with 'LibreSSL 2.8.3'. See: https://github.com/urllib3/urllib3/issues/3020\n",
      "  warnings.warn(\n"
     ]
    }
   ],
   "source": [
    "from guidance.models import Transformers\n",
    "from guidance import gen, user, system\n",
    "\n",
    "import logging\n",
    "logging.basicConfig()\n",
    "logging.getLogger().setLevel(logging.DEBUG)"
   ]
  },
  {
   "cell_type": "code",
   "execution_count": 3,
   "id": "18b70f42-4b6d-41a4-94be-a41360571901",
   "metadata": {},
   "outputs": [
    {
     "name": "stderr",
     "output_type": "stream",
     "text": [
      "DEBUG:urllib3.connectionpool:Starting new HTTPS connection (1): huggingface.co:443\n",
      "DEBUG:urllib3.connectionpool:https://huggingface.co:443 \"HEAD /gpt2/resolve/main/config.json HTTP/11\" 200 0\n",
      "DEBUG:urllib3.connectionpool:https://huggingface.co:443 \"HEAD /gpt2/resolve/main/generation_config.json HTTP/11\" 200 0\n",
      "DEBUG:urllib3.connectionpool:https://huggingface.co:443 \"HEAD /gpt2/resolve/main/tokenizer_config.json HTTP/11\" 200 0\n",
      "/Users/samueljenkins/dev/guidance-dev/venv/lib/python3.9/site-packages/transformers/tokenization_utils_base.py:1601: FutureWarning: `clean_up_tokenization_spaces` was not set. It will be set to `True` by default. This behavior will be depracted in transformers v4.45, and will be then set to `False` by default. For more details check this issue: https://github.com/huggingface/transformers/issues/31884\n",
      "  warnings.warn(\n",
      "DEBUG:guidance.visual._renderer:NEED_RESET:empty\n",
      "DEBUG:guidance.visual._renderer:NEED_RESET:jupyter:638a1b06-f4a2-4c0a-86db-b524700569c8|3\n",
      "DEBUG:guidance.visual._renderer:NEED_NEW_DISPLAY:new widget\n"
     ]
    },
    {
     "data": {
      "application/vnd.jupyter.widget-view+json": {
       "model_id": "e2c78ba472f5431084a4e4a55be8047f",
       "version_major": 2,
       "version_minor": 0
      },
      "text/plain": [
       "StitchWidget(initial_height='auto', initial_width='100%', srcdoc='<!doctype html>\\n<html lang=\"en\">\\n<head>\\n …"
      ]
     },
     "metadata": {},
     "output_type": "display_data"
    },
    {
     "name": "stderr",
     "output_type": "stream",
     "text": [
      "DEBUG:guidance.library._gen:start gen(name=\"suffix\")\n",
      "DEBUG:guidance.library._gen:finish gen\n",
      "DEBUG:guidance.models._model:start Model._run_stateless\n",
      "DEBUG:guidance.models._model:finish Model._run_stateless\n"
     ]
    }
   ],
   "source": [
    "m0 = Transformers(\"gpt2\")\n",
    "# m1 = m0 + \"Alms for the \" + gen(name=\"suffix\", max_tokens=5, stop='\\n')\n",
    "\n",
    "with system():\n",
    "    m1 = m0 + \"You are responsible for autocompleting a sentence.\"\n",
    "with user():\n",
    "    m2 = m1 + \"Roses are red and \" + gen(name=\"suffix\", regex=r'[\\w\\s]{15,20}', max_tokens=20)\n",
    "m3 = m2 + \">:(\"\n",
    "\n",
    "# with user():\n",
    "#     m3 = m2 + \"\\nWhat can I do?\"\n",
    "\n",
    "# m1 = m0 + f\"Hi there {gen(name='name', max_tokens=10, regex='[A-Za-z]{3,5}')}\"\n",
    "# m2 = m0 + f\"You can't stop \" + gen(name='name', max_tokens=10, regex='[A-Za-z]{3,5}')\n",
    "\n",
    "# with system():\n",
    "#     m3 = m0 + \"You are responsible for autocompleting a sentence.\"\n",
    "\n",
    "# with user():\n",
    "#     m4 = m3 + \"The sun is rising \" + gen(name='sentence_suffix', max_tokens=3)"
   ]
  },
  {
   "cell_type": "code",
   "execution_count": 10,
   "id": "592512ea-05cd-4c00-8118-791b224249d4",
   "metadata": {},
   "outputs": [
    {
     "ename": "AttributeError",
     "evalue": "'RootLogger' object has no attribute 'show_logs'",
     "output_type": "error",
     "traceback": [
      "\u001b[0;31m---------------------------------------------------------------------------\u001b[0m",
      "\u001b[0;31mAttributeError\u001b[0m                            Traceback (most recent call last)",
      "Cell \u001b[0;32mIn[10], line 1\u001b[0m\n\u001b[0;32m----> 1\u001b[0m \u001b[43mlogging\u001b[49m\u001b[38;5;241;43m.\u001b[39;49m\u001b[43mgetLogger\u001b[49m\u001b[43m(\u001b[49m\u001b[43m)\u001b[49m\u001b[38;5;241;43m.\u001b[39;49m\u001b[43mshow_logs\u001b[49m()\n",
      "\u001b[0;31mAttributeError\u001b[0m: 'RootLogger' object has no attribute 'show_logs'"
     ]
    }
   ],
   "source": [
    "logging.getLogger().show_logs()"
   ]
  },
  {
   "cell_type": "code",
   "execution_count": 5,
   "id": "3698a47825dd2396",
   "metadata": {
    "ExecuteTime": {
     "end_time": "2024-10-02T17:11:12.284316Z",
     "start_time": "2024-10-02T17:11:12.282441Z"
    }
   },
   "outputs": [
    {
     "name": "stdout",
     "output_type": "stream",
     "text": [
      "<|im_start|>system\n",
      "You are responsible for autocompleting a sentence.<|im_end|>\n",
      "<|im_start|>user\n",
      "Roses are red and you are responsible\n"
     ]
    }
   ],
   "source": [
    "print(m2)"
   ]
  },
  {
   "cell_type": "code",
   "execution_count": 6,
   "id": "5a5d668a11bda28f",
   "metadata": {
    "ExecuteTime": {
     "end_time": "2024-10-02T17:11:12.293140Z",
     "start_time": "2024-10-02T17:11:12.290965Z"
    }
   },
   "outputs": [
    {
     "name": "stdout",
     "output_type": "stream",
     "text": [
      "0:0:None:None\n",
      "└── 1:1:RoleOpenerInput:'RoleOpenerInput':'system':None\n",
      "    └── 2:2:StatefulGuidanceInput({{G|4806670752|G}}):None\n",
      "        └── 3:3:LiteralInput:'LiteralInput':'<|im_start|>system\\n':TextOutput:'TextOutput':'<|im_start|>system\\n'\n",
      "            └── 4:4:LiteralInput:'LiteralInput':'You are responsible for autocompleting a sentence.':TextOutput:'TextOutput':'You are responsible for autocompleting a sentence.'\n",
      "                └── 5:5:RoleCloserInput:'RoleCloserInput':'system':CaptureOutput:'CaptureOutput':'system':'You are responsible for autocompleting a sentence.'\n",
      "                    └── 6:6:StatefulGuidanceInput({{G|4789215616|G}}):None\n",
      "                        └── 7:7:LiteralInput:'LiteralInput':'<|im_end|>\\n':TextOutput:'TextOutput':'<|im_end|>\\n'\n",
      "                            └── 8:8:RoleOpenerInput:'RoleOpenerInput':'user':None\n",
      "                                └── 9:9:StatefulGuidanceInput({{G|4790063728|G}}):None\n",
      "                                    └── 10:10:LiteralInput:'LiteralInput':'<|im_start|>user\\n':TextOutput:'TextOutput':'<|im_start|>user\\n'\n",
      "                                        └── 11:11:LiteralInput:'LiteralInput':'Roses are red and ':TextOutput:'TextOutput':'Roses are red and '\n",
      "                                            └── 12:12:StatelessGuidanceInput({{G|4767373968|G}}):None\n",
      "                                                └── 13:13:None:TextOutput:'TextOutput':'you':True:1\n",
      "                                                    └── 14:14:None:TextOutput:'TextOutput':' are':True:1\n",
      "                                                        └── 15:15:None:TextOutput:'TextOutput':' responsible':True:1\n",
      "                                                            └── 16:16:None:CaptureOutput:'CaptureOutput':'suffix':'you are responsible'\n",
      "                                                                └── 17:17:RoleCloserInput:'RoleCloserInput':'user':CaptureOutput:'CaptureOutput':'user':'Roses are red and you are responsible'\n",
      "                                                                    └── 18:18:StatefulGuidanceInput({{G|4730762800|G}}):None\n",
      "                                                                        └── 19:19:LiteralInput:'LiteralInput':'<|im_end|>\\n':TextOutput:'TextOutput':'<|im_end|>\\n'\n",
      "                                                                            └── 20:20:LiteralInput:'LiteralInput':'>:(':TextOutput:'TextOutput':'>:('\n"
     ]
    }
   ],
   "source": [
    "from guidance.visual import display_trace_tree\n",
    "\n",
    "display_trace_tree(m0._trace_handler)"
   ]
  }
 ],
 "metadata": {
  "kernelspec": {
   "display_name": "Python 3 (ipykernel)",
   "language": "python",
   "name": "python3"
  },
  "language_info": {
   "codemirror_mode": {
    "name": "ipython",
    "version": 3
   },
   "file_extension": ".py",
   "mimetype": "text/x-python",
   "name": "python",
   "nbconvert_exporter": "python",
   "pygments_lexer": "ipython3",
   "version": "3.9.6"
  }
 },
 "nbformat": 4,
 "nbformat_minor": 5
}
