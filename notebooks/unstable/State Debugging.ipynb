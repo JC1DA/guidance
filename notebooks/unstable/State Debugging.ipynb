{
 "cells": [
  {
   "cell_type": "code",
   "id": "1ec02432-a44d-4fdb-b44c-b153529fc03d",
   "metadata": {},
   "source": [
    "from guidance.models import Transformers\n",
    "from guidance import gen, user, system\n",
    "\n",
    "# import logging\n",
    "# logging.basicConfig()\n",
    "# logging.getLogger().setLevel(logging.DEBUG)"
   ],
   "outputs": [],
   "execution_count": null
  },
  {
   "cell_type": "code",
   "id": "18b70f42-4b6d-41a4-94be-a41360571901",
   "metadata": {},
   "source": [
    "m0 = Transformers(\"gpt2\")\n",
    "# m1 = m0 + \"Alms for the \" + gen(name=\"suffix\", max_tokens=5, stop='\\n')\n",
    "\n",
    "with system():\n",
    "    m1 = m0 + \"You are responsible for autocompleting a sentence.\"\n",
    "with user():\n",
    "    m2 = m1 + \"Roses are red and \" + gen(name=\"suffix\", regex=r'[\\w\\s]{15,20}', max_tokens=20)\n",
    "m3 = m2 + \">:(\"\n",
    "\n",
    "# with user():\n",
    "#     m3 = m2 + \"\\nWhat can I do?\"\n",
    "\n",
    "# m1 = m0 + f\"Hi there {gen(name='name', max_tokens=10, regex='[A-Za-z]{3,5}')}\"\n",
    "# m2 = m0 + f\"You can't stop \" + gen(name='name', max_tokens=10, regex='[A-Za-z]{3,5}')\n",
    "\n",
    "# with system():\n",
    "#     m3 = m0 + \"You are responsible for autocompleting a sentence.\"\n",
    "\n",
    "# with user():\n",
    "#     m4 = m3 + \"The sun is rising \" + gen(name='sentence_suffix', max_tokens=3)"
   ],
   "outputs": [],
   "execution_count": null
  },
  {
   "cell_type": "code",
   "id": "3698a47825dd2396",
   "metadata": {},
   "source": [
    "print(m2)"
   ],
   "outputs": [],
   "execution_count": null
  },
  {
   "cell_type": "code",
   "id": "5a5d668a11bda28f",
   "metadata": {},
   "source": [
    "from guidance.visual import display_trace_tree\n",
    "\n",
    "display_trace_tree(m0._trace_handler)"
   ],
   "outputs": [],
   "execution_count": null
  },
  {
   "cell_type": "code",
   "id": "37ce3ed8-698e-4115-8c6b-ba6663f6e2ad",
   "metadata": {},
   "source": [],
   "outputs": [],
   "execution_count": null
  }
 ],
 "metadata": {
  "kernelspec": {
   "display_name": "Python 3 (ipykernel)",
   "language": "python",
   "name": "python3"
  },
  "language_info": {
   "codemirror_mode": {
    "name": "ipython",
    "version": 3
   },
   "file_extension": ".py",
   "mimetype": "text/x-python",
   "name": "python",
   "nbconvert_exporter": "python",
   "pygments_lexer": "ipython3",
   "version": "3.9.6"
  }
 },
 "nbformat": 4,
 "nbformat_minor": 5
}
