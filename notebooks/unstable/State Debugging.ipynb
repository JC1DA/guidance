{
 "cells": [
  {
   "cell_type": "code",
   "execution_count": 1,
   "id": "6322ebeedc335fc6",
   "metadata": {
    "jupyter": {
     "is_executing": true
    }
   },
   "outputs": [],
   "source": [
    "import stitch"
   ]
  },
  {
   "cell_type": "code",
   "execution_count": 2,
   "id": "1ec02432-a44d-4fdb-b44c-b153529fc03d",
   "metadata": {},
   "outputs": [
    {
     "name": "stderr",
     "output_type": "stream",
     "text": [
      "/Users/samueljenkins/dev/guidance-dev/venv/lib/python3.9/site-packages/urllib3/__init__.py:35: NotOpenSSLWarning: urllib3 v2 only supports OpenSSL 1.1.1+, currently the 'ssl' module is compiled with 'LibreSSL 2.8.3'. See: https://github.com/urllib3/urllib3/issues/3020\n",
      "  warnings.warn(\n"
     ]
    }
   ],
   "source": [
    "from guidance.models import Transformers\n",
    "from guidance import gen, user, system\n",
    "\n",
    "import logging\n",
    "# logging.basicConfig(format='%(asctime)s - %(levelname)s - %(message)s',\n",
    "#                     datefmt='%Y-%m-%d %H:%M:%S')\n",
    "# logging.getLogger().setLevel(logging.DEBUG)"
   ]
  },
  {
   "cell_type": "code",
   "execution_count": 3,
   "id": "18b70f42-4b6d-41a4-94be-a41360571901",
   "metadata": {},
   "outputs": [
    {
     "data": {
      "application/vnd.jupyter.widget-view+json": {
       "model_id": "1cf7f2a00d794065ba23b0d753aebded",
       "version_major": 2,
       "version_minor": 0
      },
      "text/plain": [
       "StitchWidget(initial_height='auto', initial_width='100%', srcdoc='<!doctype html>\\n<html lang=\"en\">\\n<head>\\n …"
      ]
     },
     "metadata": {},
     "output_type": "display_data"
    }
   ],
   "source": [
    "m0 = Transformers(\"gpt2\")\n",
    "# m0 = Transformers(\"microsoft/Phi-3-mini-4k-instruct\")\n",
    "# m1 = m0 + \"Alms for the \" + gen(name=\"suffix\", max_tokens=5, stop='\\n')\n",
    "\n",
    "with system():\n",
    "    m1 = m0 + \"You are responsible for autocompleting a sentence.\"\n",
    "    # m1 = m0 + \"You are responsible for writing an epic poem.\"\n",
    "with user():\n",
    "    m2 = m1 + \"Roses are red and \" + gen(name=\"suffix\", regex=r'[\\w\\s]{15,20}', max_tokens=20)\n",
    "    # m2 = m1 + \"Roses are red and \" + gen(name=\"suffix\", regex=r'[\\w\\s]+{100}', max_tokens=500)\n",
    "m3 = m2 + \">:(\"\n",
    "\n",
    "# with user():\n",
    "#     m3 = m2 + \"\\nWhat can I do?\"\n",
    "\n",
    "# m1 = m0 + f\"Hi there {gen(name='name', max_tokens=10, regex='[A-Za-z]{3,5}')}\"\n",
    "# m2 = m0 + f\"You can't stop \" + gen(name='name', max_tokens=10, regex='[A-Za-z]{3,5}')\n",
    "\n",
    "# with system():\n",
    "#     m3 = m0 + \"You are responsible for autocompleting a sentence.\"\n",
    "\n",
    "# with user():\n",
    "#     m4 = m3 + \"The sun is rising \" + gen(name='sentence_suffix', max_tokens=3)"
   ]
  },
  {
   "cell_type": "code",
   "execution_count": 4,
   "id": "5a5d668a11bda28f",
   "metadata": {},
   "outputs": [
    {
     "name": "stdout",
     "output_type": "stream",
     "text": [
      "0:0:None:None\n",
      "└── 1:1:RoleOpenerInput:'RoleOpenerInput':'system':'<|im_start|>system\\n':None\n",
      "    └── 2:2:StatefulGuidanceInput({{G|4760996976|G}}):None\n",
      "        └── 3:3:LiteralInput:'LiteralInput':'<|im_start|>system\\n':TextOutput:'TextOutput':'<|im_start|>system\\n'\n",
      "            └── 4:4:LiteralInput:'LiteralInput':'You are responsible for autocompleting a sentence.':TextOutput:'TextOutput':'You are responsible for autocompleting a sentence.'\n",
      "                └── 5:5:RoleCloserInput:'RoleCloserInput':'system':'<|im_end|>\\n':CaptureOutput:'CaptureOutput':'system':'You are responsible for autocompleting a sentence.'\n",
      "                    └── 6:6:StatefulGuidanceInput({{G|4764290320|G}}):None\n",
      "                        └── 7:7:LiteralInput:'LiteralInput':'<|im_end|>\\n':TextOutput:'TextOutput':'<|im_end|>\\n'\n",
      "                            └── 8:8:RoleOpenerInput:'RoleOpenerInput':'user':'<|im_start|>user\\n':None\n",
      "                                └── 9:9:StatefulGuidanceInput({{G|4541852224|G}}):None\n",
      "                                    └── 10:10:LiteralInput:'LiteralInput':'<|im_start|>user\\n':TextOutput:'TextOutput':'<|im_start|>user\\n'\n",
      "                                        └── 11:11:LiteralInput:'LiteralInput':'Roses are red and ':TextOutput:'TextOutput':'Roses are red and '\n",
      "                                            └── 12:12:StatelessGuidanceInput({{G|4759750352|G}}):None\n",
      "                                                └── 13:13:None:TextOutput:'TextOutput':'you':True:1\n",
      "                                                    └── 14:14:None:TextOutput:'TextOutput':' are':True:1\n",
      "                                                        └── 15:15:None:TextOutput:'TextOutput':' responsible':True:1\n",
      "                                                            └── 16:16:None:CaptureOutput:'CaptureOutput':'suffix':'you are responsible'\n",
      "                                                                └── 17:17:RoleCloserInput:'RoleCloserInput':'user':'<|im_end|>\\n':CaptureOutput:'CaptureOutput':'user':'Roses are red and you are responsible'\n",
      "                                                                    └── 18:18:StatefulGuidanceInput({{G|4541852064|G}}):None\n",
      "                                                                        └── 19:19:LiteralInput:'LiteralInput':'<|im_end|>\\n':TextOutput:'TextOutput':'<|im_end|>\\n'\n",
      "                                                                            └── 20:20:LiteralInput:'LiteralInput':'>:(':TextOutput:'TextOutput':'>:('\n"
     ]
    }
   ],
   "source": [
    "from guidance.visual import display_trace_tree\n",
    "\n",
    "display_trace_tree(m0._trace_handler)"
   ]
  },
  {
   "cell_type": "code",
   "execution_count": null,
   "id": "9ce8fa83-08ae-40d2-b766-693cf8b9284d",
   "metadata": {},
   "outputs": [],
   "source": []
  },
  {
   "cell_type": "code",
   "execution_count": null,
   "id": "3420924c-a8ca-4ab1-8c46-63b63c04e42a",
   "metadata": {},
   "outputs": [],
   "source": []
  }
 ],
 "metadata": {
  "kernelspec": {
   "display_name": "Python 3 (ipykernel)",
   "language": "python",
   "name": "python3"
  },
  "language_info": {
   "codemirror_mode": {
    "name": "ipython",
    "version": 3
   },
   "file_extension": ".py",
   "mimetype": "text/x-python",
   "name": "python",
   "nbconvert_exporter": "python",
   "pygments_lexer": "ipython3",
   "version": "3.9.6"
  }
 },
 "nbformat": 4,
 "nbformat_minor": 5
}
