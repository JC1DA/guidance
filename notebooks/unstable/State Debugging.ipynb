{
 "cells": [
  {
   "cell_type": "code",
   "execution_count": null,
   "id": "6322ebeedc335fc6",
   "metadata": {
    "ExecuteTime": {
     "end_time": "2024-10-03T23:07:39.466437Z",
     "start_time": "2024-10-03T23:07:39.287923Z"
    }
   },
   "outputs": [],
   "source": [
    "import stitch"
   ]
  },
  {
   "cell_type": "code",
   "execution_count": null,
   "id": "1ec02432-a44d-4fdb-b44c-b153529fc03d",
   "metadata": {
    "ExecuteTime": {
     "end_time": "2024-10-02T17:11:00.340331Z",
     "start_time": "2024-10-02T17:11:00.337392Z"
    }
   },
   "outputs": [],
   "source": [
    "from guidance.models import Transformers\n",
    "from guidance import gen, user, system\n",
    "\n",
    "import logging\n",
    "logging.basicConfig()\n",
    "logging.getLogger().setLevel(logging.DEBUG)"
   ]
  },
  {
   "cell_type": "code",
   "execution_count": null,
   "id": "18b70f42-4b6d-41a4-94be-a41360571901",
   "metadata": {},
   "outputs": [],
   "source": [
    "m0 = Transformers(\"gpt2\")\n",
    "# m1 = m0 + \"Alms for the \" + gen(name=\"suffix\", max_tokens=5, stop='\\n')\n",
    "\n",
    "with system():\n",
    "    m1 = m0 + \"You are responsible for autocompleting a sentence.\"\n",
    "with user():\n",
    "    m2 = m1 + \"Roses are red and \" + gen(name=\"suffix\", regex=r'[\\w\\s]{15,20}', max_tokens=20)\n",
    "m3 = m2 + \">:(\"\n",
    "\n",
    "# with user():\n",
    "#     m3 = m2 + \"\\nWhat can I do?\"\n",
    "\n",
    "# m1 = m0 + f\"Hi there {gen(name='name', max_tokens=10, regex='[A-Za-z]{3,5}')}\"\n",
    "# m2 = m0 + f\"You can't stop \" + gen(name='name', max_tokens=10, regex='[A-Za-z]{3,5}')\n",
    "\n",
    "# with system():\n",
    "#     m3 = m0 + \"You are responsible for autocompleting a sentence.\"\n",
    "\n",
    "# with user():\n",
    "#     m4 = m3 + \"The sun is rising \" + gen(name='sentence_suffix', max_tokens=3)"
   ]
  },
  {
   "cell_type": "code",
   "execution_count": null,
   "id": "5a5d668a11bda28f",
   "metadata": {
    "ExecuteTime": {
     "end_time": "2024-10-02T17:11:12.293140Z",
     "start_time": "2024-10-02T17:11:12.290965Z"
    }
   },
   "outputs": [],
   "source": [
    "from guidance.visual import display_trace_tree\n",
    "\n",
    "display_trace_tree(m0._trace_handler)"
   ]
  },
  {
   "cell_type": "code",
   "execution_count": null,
   "id": "9ce8fa83-08ae-40d2-b766-693cf8b9284d",
   "metadata": {},
   "outputs": [],
   "source": []
  },
  {
   "cell_type": "code",
   "execution_count": null,
   "id": "3420924c-a8ca-4ab1-8c46-63b63c04e42a",
   "metadata": {},
   "outputs": [],
   "source": []
  }
 ],
 "metadata": {
  "kernelspec": {
   "display_name": "Python 3 (ipykernel)",
   "language": "python",
   "name": "python3"
  },
  "language_info": {
   "codemirror_mode": {
    "name": "ipython",
    "version": 3
   },
   "file_extension": ".py",
   "mimetype": "text/x-python",
   "name": "python",
   "nbconvert_exporter": "python",
   "pygments_lexer": "ipython3",
   "version": "3.9.6"
  }
 },
 "nbformat": 4,
 "nbformat_minor": 5
}
