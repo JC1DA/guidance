{
 "cells": [
  {
   "cell_type": "code",
   "id": "1ec02432-a44d-4fdb-b44c-b153529fc03d",
   "metadata": {
    "ExecuteTime": {
     "end_time": "2024-09-26T21:31:55.029427Z",
     "start_time": "2024-09-26T21:31:53.440050Z"
    }
   },
   "source": [
    "from guidance.models import Transformers\n",
    "from guidance import gen, user, system"
   ],
   "outputs": [
    {
     "name": "stderr",
     "output_type": "stream",
     "text": [
      "/Users/samueljenkins/dev/guidance-dev/venv/lib/python3.9/site-packages/urllib3/__init__.py:35: NotOpenSSLWarning: urllib3 v2 only supports OpenSSL 1.1.1+, currently the 'ssl' module is compiled with 'LibreSSL 2.8.3'. See: https://github.com/urllib3/urllib3/issues/3020\n",
      "  warnings.warn(\n"
     ]
    }
   ],
   "execution_count": 1
  },
  {
   "cell_type": "code",
   "id": "18b70f42-4b6d-41a4-94be-a41360571901",
   "metadata": {},
   "source": [
    "m0 = Transformers(\"gpt2\")\n",
    "with system():\n",
    "    m1 = m0 + \"You are responsible for autocompleting a sentence.\"\n",
    "with user():\n",
    "    m2 = m1 + \"Roses are red and \" + gen(name=\"suffix\", regex='[A-Za-z]{2,5}', max_tokens=5)\n",
    "\n",
    "# m1 = m0 + f\"Hi there {gen(name='name', max_tokens=10, regex='[A-Za-z]{3,5}')}\"\n",
    "# m2 = m0 + f\"You can't stop \" + gen(name='name', max_tokens=10, regex='[A-Za-z]{3,5}')\n",
    "\n",
    "# with system():\n",
    "#     m3 = m0 + \"You are responsible for autocompleting a sentence.\"\n",
    "\n",
    "# with user():\n",
    "#     m4 = m3 + \"The sun is rising \" + gen(name='sentence_suffix', max_tokens=3)"
   ],
   "execution_count": 2,
   "outputs": []
  },
  {
   "cell_type": "code",
   "id": "b5d6e974-bc52-4bbd-a8d4-69d681c33072",
   "metadata": {
    "ExecuteTime": {
     "end_time": "2024-09-26T21:31:56.819858Z",
     "start_time": "2024-09-26T21:31:56.779818Z"
    }
   },
   "source": [
    "from guidance.state import visualize, visualize_text\n",
    "\n",
    "visualize(m0._state_handler, m0._state_handler._model_node_map[0])"
   ],
   "outputs": [
    {
     "name": "stdout",
     "output_type": "stream",
     "text": [
      "0:0:Tracker\n",
      "└── 1:2:RoleOpenerInput:'system'\n",
      "    └── 2:4:StatefulGuidanceInput:{{G|5074217616|G}}\n",
      "        └── 3:6:LiteralInput:'<|im_start|>system\\n'\n",
      "            └── 4:15:LiteralInput:'You are responsible for autocompleting a sentence.'\n",
      "                └── 8:17:TextOutput:'You are responsible for autocompleting a sentence.'\n",
      "                    └── 9:19:RoleCloserInput:'system'\n",
      "                        └── 10:21:StatefulGuidanceInput:{{G|5096533584|G}}\n",
      "                            └── 11:23:LiteralInput:'<|im_end|>\\n'\n",
      "                                └── 12:26:RoleOpenerInput:'user'\n",
      "                                    └── 13:28:StatefulGuidanceInput:{{G|5236675744|G}}\n",
      "                                        └── 14:30:LiteralInput:'<|im_start|>user\\n'\n",
      "                                            └── 15:39:LiteralInput:'Roses are red and '\n",
      "                                                └── 19:41:TextOutput:'Roses are red and '\n",
      "                                                    └── 20:43:StatelessGuidanceInput:{{G|5074674128|G}}\n",
      "                                                        └── 21:45:LiteralInput:'you'\n",
      "                                                            └── 22:47:TextOutput:'you'\n"
     ]
    }
   ],
   "execution_count": 3
  },
  {
   "cell_type": "code",
   "id": "d4070d52b59fad",
   "metadata": {
    "ExecuteTime": {
     "end_time": "2024-09-26T21:31:57.874141Z",
     "start_time": "2024-09-26T21:31:57.871821Z"
    }
   },
   "source": [
    "visualize_text(m0._state_handler, m0._state_handler._model_node_map[22])"
   ],
   "outputs": [
    {
     "name": "stdout",
     "output_type": "stream",
     "text": [
      "You are responsible for autocompleting a sentence.Roses are red and you"
     ]
    }
   ],
   "execution_count": 4
  },
  {
   "cell_type": "code",
   "id": "d70ed049",
   "metadata": {
    "ExecuteTime": {
     "end_time": "2024-09-26T21:31:58.936929Z",
     "start_time": "2024-09-26T21:31:58.933671Z"
    }
   },
   "source": [
    "m0._state_handler._model_node_map[3]"
   ],
   "outputs": [
    {
     "data": {
      "text/plain": [
       "6:LiteralInput:'<|im_start|>system\\n'"
      ]
     },
     "execution_count": 5,
     "metadata": {},
     "output_type": "execute_result"
    }
   ],
   "execution_count": 5
  }
 ],
 "metadata": {
  "kernelspec": {
   "display_name": "Python 3 (ipykernel)",
   "language": "python",
   "name": "python3"
  },
  "language_info": {
   "codemirror_mode": {
    "name": "ipython",
    "version": 3
   },
   "file_extension": ".py",
   "mimetype": "text/x-python",
   "name": "python",
   "nbconvert_exporter": "python",
   "pygments_lexer": "ipython3",
   "version": "3.12.5"
  }
 },
 "nbformat": 4,
 "nbformat_minor": 5
}
